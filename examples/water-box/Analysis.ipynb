{
 "cells": [
  {
   "cell_type": "code",
   "execution_count": 1,
   "metadata": {
    "collapsed": true
   },
   "outputs": [],
   "source": [
    "from mtools.post_process import calc_density\n",
    "from mtools.post_process import calc_msd\n",
    "from mtools.post_process import slice_and_chunk\n",
    "from mtools.gromacs.gromacs import unwrap_trj\n",
    "\n",
    "import mdtraj as md\n",
    "import numpy as np\n",
    "import matplotlib.pyplot as plt\n",
    "import itertools"
   ]
  },
  {
   "cell_type": "code",
   "execution_count": null,
   "metadata": {
    "collapsed": true
   },
   "outputs": [],
   "source": [
    "traj = md.load('box1000.xtc', top='box1000.gro')"
   ]
  },
  {
   "cell_type": "code",
   "execution_count": null,
   "metadata": {
    "collapsed": true
   },
   "outputs": [],
   "source": [
    "rho = calc_density(traj, units='macro')"
   ]
  },
  {
   "cell_type": "code",
   "execution_count": null,
   "metadata": {},
   "outputs": [],
   "source": [
    "plt.figure()\n",
    "plt.plot(traj.time, rho)\n",
    "plt.ylim(ymin=0)\n",
    "plt.show()"
   ]
  },
  {
   "cell_type": "code",
   "execution_count": null,
   "metadata": {
    "collapsed": true
   },
   "outputs": [],
   "source": [
    "unwrap_trj('box1000.xtc') # Unwrap trajectory to properly calculate MSD\n",
    "traj = md.load('box1000_unwrapped.xtc', top='box1000.gro')"
   ]
  },
  {
   "cell_type": "code",
   "execution_count": null,
   "metadata": {
    "collapsed": true
   },
   "outputs": [],
   "source": [
    "from mtools.post_process import calc_msd\n",
    "D, msd, x_fit, y_fit = calc_msd(traj)"
   ]
  },
  {
   "cell_type": "code",
   "execution_count": null,
   "metadata": {},
   "outputs": [],
   "source": [
    "fig, ax = plt.subplots()\n",
    "ax.plot(traj.time, msd, '.-', label='MSD')\n",
    "ax.plot(x_fit, y_fit, 'k-', label='Lineaar fit')\n",
    "ax.legend(loc=0)\n",
    "ax.set_title('Diffusivity = {:0.3e}'.format(D))\n",
    "ax.set_ylabel('MSD (nm^2)')\n",
    "ax.set_xlabel('Simulation time (ps)')\n",
    "plt.show()"
   ]
  },
  {
   "cell_type": "code",
   "execution_count": null,
   "metadata": {},
   "outputs": [],
   "source": [
    "D, msd, x_fit, y_fit = calc_msd(traj, dims=[1, 0, 0])\n",
    "print('D_x = {:0.3e}'.format(D))\n",
    "D, msd, x_fit, y_fit = calc_msd(traj, dims=[0, 1, 0])\n",
    "print('D_y = {:0.3e}'.format(D))\n",
    "D, msd, x_fit, y_fit = calc_msd(traj, dims=[0, 0, 1])\n",
    "print('D_z = {:0.3e}'.format(D))\n",
    "D, msd, x_fit, y_fit = calc_msd(traj, dims=[1, 1, 0])\n",
    "print('D_xy = {:0.3e}'.format(D))\n",
    "D, msd, x_fit, y_fit = calc_msd(traj, dims=[1, 0, 1])\n",
    "print('D_xz = {:0.3e}'.format(D))\n",
    "D, msd, x_fit, y_fit = calc_msd(traj, dims=[0, 1, 1])\n",
    "print('D_yz = {:0.3e}'.format(D))\n",
    "D, msd, x_fit, y_fit = calc_msd(traj, dims=[1, 1, 1])\n",
    "print('D_xyz = {:0.3e}'.format(D))"
   ]
  },
  {
   "cell_type": "code",
   "execution_count": 2,
   "metadata": {
    "collapsed": true
   },
   "outputs": [],
   "source": [
    "slice_and_chunk(trj_file = 'box1000_unwrapped.xtc', top_file='box1000.gro', chunk=100, skip=1, dims=[1, 1, 1],\n",
    "                x_range=[0, 1], y_range=[0, 3], z_range=[0, 3],\n",
    "                msd_file='msd.txt', img_file='msd.pdf')"
   ]
  },
  {
   "cell_type": "code",
   "execution_count": null,
   "metadata": {
    "collapsed": true
   },
   "outputs": [],
   "source": []
  }
 ],
 "metadata": {
  "kernelspec": {
   "display_name": "Python 3",
   "language": "python",
   "name": "python3"
  },
  "language_info": {
   "codemirror_mode": {
    "name": "ipython",
    "version": 3
   },
   "file_extension": ".py",
   "mimetype": "text/x-python",
   "name": "python",
   "nbconvert_exporter": "python",
   "pygments_lexer": "ipython3",
   "version": "3.6.1"
  }
 },
 "nbformat": 4,
 "nbformat_minor": 2
}
